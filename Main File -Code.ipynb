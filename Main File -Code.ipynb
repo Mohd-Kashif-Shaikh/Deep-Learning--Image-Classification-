{
 "cells": [
  {
   "cell_type": "markdown",
   "id": "a8f5545e",
   "metadata": {},
   "source": [
    "## 📚 Importing Libraries"
   ]
  },
  {
   "cell_type": "code",
   "execution_count": 3,
   "id": "ea744690",
   "metadata": {},
   "outputs": [],
   "source": [
    "import tensorflow as tf\n",
    "import keras\n",
    "import warnings\n",
    "warnings.filterwarnings(\"ignore\")\n",
    "#import numpy as np"
   ]
  },
  {
   "cell_type": "code",
   "execution_count": 4,
   "id": "3a114a9d",
   "metadata": {},
   "outputs": [],
   "source": [
    "from keras.preprocessing.image import ImageDataGenerator"
   ]
  },
  {
   "cell_type": "markdown",
   "id": "9eca237e",
   "metadata": {},
   "source": [
    "## 🧹 Data Preprocessing - Training Data"
   ]
  },
  {
   "cell_type": "code",
   "execution_count": 5,
   "id": "c2e2c53c",
   "metadata": {},
   "outputs": [],
   "source": [
    "training=ImageDataGenerator(rescale=1/255,shear_range=0.2,zoom_range=0.2)"
   ]
  },
  {
   "cell_type": "code",
   "execution_count": 6,
   "id": "16c026af",
   "metadata": {},
   "outputs": [
    {
     "name": "stdout",
     "output_type": "stream",
     "text": [
      "Found 8048 images belonging to 2 classes.\n"
     ]
    }
   ],
   "source": [
    "training_data=training.flow_from_directory('dataset/training_set',target_size=(64,64),class_mode='binary')"
   ]
  },
  {
   "cell_type": "code",
   "execution_count": 7,
   "id": "8805b1ad",
   "metadata": {},
   "outputs": [
    {
     "data": {
      "text/plain": [
       "{'cats': 0, 'dogs': 1}"
      ]
     },
     "execution_count": 7,
     "metadata": {},
     "output_type": "execute_result"
    }
   ],
   "source": [
    "training_data.class_indices"
   ]
  },
  {
   "cell_type": "markdown",
   "id": "b9e4b04e",
   "metadata": {},
   "source": [
    "## 🧹 Data Preprocessing - Test Data"
   ]
  },
  {
   "cell_type": "code",
   "execution_count": 8,
   "id": "9ef17749",
   "metadata": {},
   "outputs": [],
   "source": [
    "test=ImageDataGenerator(rescale=1/255)"
   ]
  },
  {
   "cell_type": "code",
   "execution_count": 9,
   "id": "4643dbc6",
   "metadata": {},
   "outputs": [
    {
     "name": "stdout",
     "output_type": "stream",
     "text": [
      "Found 2000 images belonging to 2 classes.\n"
     ]
    }
   ],
   "source": [
    "test_data=test.flow_from_directory('dataset/test_set',target_size=(64,64),class_mode='binary')"
   ]
  },
  {
   "cell_type": "code",
   "execution_count": 10,
   "id": "1fad2982",
   "metadata": {},
   "outputs": [
    {
     "data": {
      "text/plain": [
       "{'cats': 0, 'dogs': 1}"
      ]
     },
     "execution_count": 10,
     "metadata": {},
     "output_type": "execute_result"
    }
   ],
   "source": [
    "test_data.class_indices"
   ]
  },
  {
   "cell_type": "markdown",
   "id": "fa0b2b34",
   "metadata": {},
   "source": [
    "## 🏗️ Building the CNN Model"
   ]
  },
  {
   "cell_type": "code",
   "execution_count": 14,
   "id": "ea958940",
   "metadata": {},
   "outputs": [],
   "source": [
    "from keras.models import Sequential\n",
    "classifier=Sequential()"
   ]
  },
  {
   "cell_type": "code",
   "execution_count": 15,
   "id": "5e6934a6",
   "metadata": {},
   "outputs": [],
   "source": [
    "from keras.layers import Conv2D\n",
    "classifier.add(Conv2D(input_shape=[64,64,3],filters=32,kernel_size=3,activation='relu'))"
   ]
  },
  {
   "cell_type": "code",
   "execution_count": 16,
   "id": "725d7966",
   "metadata": {},
   "outputs": [
    {
     "name": "stdout",
     "output_type": "stream",
     "text": [
      "WARNING:tensorflow:From C:\\Users\\SHAIKH MD KASHIF\\anaconda\\data science\\lib\\site-packages\\keras\\src\\layers\\pooling\\max_pooling2d.py:161: The name tf.nn.max_pool is deprecated. Please use tf.nn.max_pool2d instead.\n",
      "\n"
     ]
    }
   ],
   "source": [
    "from keras.layers import MaxPool2D\n",
    "classifier.add(MaxPool2D(pool_size=2,strides=2))"
   ]
  },
  {
   "cell_type": "code",
   "execution_count": 19,
   "id": "452da552",
   "metadata": {},
   "outputs": [],
   "source": [
    "from keras.layers import Flatten\n",
    "classifier.add(Flatten())"
   ]
  },
  {
   "cell_type": "markdown",
   "id": "fb46db24",
   "metadata": {},
   "source": [
    "## ⚙️ Compiling the Model"
   ]
  },
  {
   "cell_type": "code",
   "execution_count": 20,
   "id": "c90a18f2",
   "metadata": {},
   "outputs": [],
   "source": [
    "from keras.layers import Dense\n",
    "classifier.add(Dense(units=128,activation='relu'))\n",
    "classifier.add(Dense(units=1,activation='sigmoid'))"
   ]
  },
  {
   "cell_type": "markdown",
   "id": "9a125b31",
   "metadata": {},
   "source": [
    "## 🏋️ Training the Model"
   ]
  },
  {
   "cell_type": "code",
   "execution_count": 21,
   "id": "a8a9da1e",
   "metadata": {},
   "outputs": [
    {
     "name": "stdout",
     "output_type": "stream",
     "text": [
      "WARNING:tensorflow:From C:\\Users\\SHAIKH MD KASHIF\\anaconda\\data science\\lib\\site-packages\\keras\\src\\optimizers\\__init__.py:309: The name tf.train.Optimizer is deprecated. Please use tf.compat.v1.train.Optimizer instead.\n",
      "\n"
     ]
    }
   ],
   "source": [
    "classifier.compile(optimizer='adam',loss='binary_crossentropy',metrics=['accuracy'])"
   ]
  },
  {
   "cell_type": "code",
   "execution_count": 22,
   "id": "994f5940",
   "metadata": {
    "scrolled": true
   },
   "outputs": [
    {
     "name": "stdout",
     "output_type": "stream",
     "text": [
      "Epoch 1/25\n",
      "WARNING:tensorflow:From C:\\Users\\SHAIKH MD KASHIF\\anaconda\\data science\\lib\\site-packages\\keras\\src\\utils\\tf_utils.py:492: The name tf.ragged.RaggedTensorValue is deprecated. Please use tf.compat.v1.ragged.RaggedTensorValue instead.\n",
      "\n",
      "WARNING:tensorflow:From C:\\Users\\SHAIKH MD KASHIF\\anaconda\\data science\\lib\\site-packages\\keras\\src\\engine\\base_layer_utils.py:384: The name tf.executing_eagerly_outside_functions is deprecated. Please use tf.compat.v1.executing_eagerly_outside_functions instead.\n",
      "\n",
      "252/252 [==============================] - 288s 1s/step - loss: 0.6626 - accuracy: 0.6120 - val_loss: 0.6315 - val_accuracy: 0.6420\n",
      "Epoch 2/25\n",
      "252/252 [==============================] - 88s 350ms/step - loss: 0.5864 - accuracy: 0.6868 - val_loss: 0.6453 - val_accuracy: 0.6470\n",
      "Epoch 3/25\n",
      "252/252 [==============================] - 94s 373ms/step - loss: 0.5564 - accuracy: 0.7125 - val_loss: 0.5713 - val_accuracy: 0.6970\n",
      "Epoch 4/25\n",
      "252/252 [==============================] - 94s 372ms/step - loss: 0.5312 - accuracy: 0.7335 - val_loss: 0.5653 - val_accuracy: 0.7260\n",
      "Epoch 5/25\n",
      "252/252 [==============================] - 89s 354ms/step - loss: 0.5045 - accuracy: 0.7493 - val_loss: 0.5312 - val_accuracy: 0.7360\n",
      "Epoch 6/25\n",
      "252/252 [==============================] - 71s 281ms/step - loss: 0.4824 - accuracy: 0.7667 - val_loss: 0.5624 - val_accuracy: 0.7235\n",
      "Epoch 7/25\n",
      "252/252 [==============================] - 54s 213ms/step - loss: 0.4603 - accuracy: 0.7773 - val_loss: 0.5464 - val_accuracy: 0.7520\n",
      "Epoch 8/25\n",
      "252/252 [==============================] - 50s 197ms/step - loss: 0.4444 - accuracy: 0.7840 - val_loss: 0.5770 - val_accuracy: 0.7215\n",
      "Epoch 9/25\n",
      "252/252 [==============================] - 52s 206ms/step - loss: 0.4205 - accuracy: 0.8054 - val_loss: 0.5568 - val_accuracy: 0.7490\n",
      "Epoch 10/25\n",
      "252/252 [==============================] - 52s 208ms/step - loss: 0.4041 - accuracy: 0.8140 - val_loss: 0.5787 - val_accuracy: 0.7420\n",
      "Epoch 11/25\n",
      "252/252 [==============================] - 51s 200ms/step - loss: 0.3799 - accuracy: 0.8275 - val_loss: 0.5516 - val_accuracy: 0.7410\n",
      "Epoch 12/25\n",
      "252/252 [==============================] - 50s 200ms/step - loss: 0.3615 - accuracy: 0.8407 - val_loss: 0.5461 - val_accuracy: 0.7655\n",
      "Epoch 13/25\n",
      "252/252 [==============================] - 45s 178ms/step - loss: 0.3452 - accuracy: 0.8477 - val_loss: 0.5704 - val_accuracy: 0.7550\n",
      "Epoch 14/25\n",
      "252/252 [==============================] - 44s 174ms/step - loss: 0.3147 - accuracy: 0.8667 - val_loss: 0.6901 - val_accuracy: 0.7285\n",
      "Epoch 15/25\n",
      "252/252 [==============================] - 104s 415ms/step - loss: 0.2959 - accuracy: 0.8715 - val_loss: 0.6319 - val_accuracy: 0.7590\n",
      "Epoch 16/25\n",
      "252/252 [==============================] - 150s 595ms/step - loss: 0.2824 - accuracy: 0.8786 - val_loss: 0.6200 - val_accuracy: 0.7510\n",
      "Epoch 17/25\n",
      "252/252 [==============================] - 64s 254ms/step - loss: 0.2614 - accuracy: 0.8929 - val_loss: 0.7198 - val_accuracy: 0.7460\n",
      "Epoch 18/25\n",
      "252/252 [==============================] - 52s 206ms/step - loss: 0.2503 - accuracy: 0.8925 - val_loss: 0.6719 - val_accuracy: 0.7630\n",
      "Epoch 19/25\n",
      "252/252 [==============================] - 53s 210ms/step - loss: 0.2243 - accuracy: 0.9058 - val_loss: 0.7177 - val_accuracy: 0.7495\n",
      "Epoch 20/25\n",
      "252/252 [==============================] - 56s 223ms/step - loss: 0.2069 - accuracy: 0.9177 - val_loss: 0.8231 - val_accuracy: 0.7460\n",
      "Epoch 21/25\n",
      "252/252 [==============================] - 56s 222ms/step - loss: 0.1927 - accuracy: 0.9271 - val_loss: 0.7715 - val_accuracy: 0.7455\n",
      "Epoch 22/25\n",
      "252/252 [==============================] - 45s 177ms/step - loss: 0.1878 - accuracy: 0.9245 - val_loss: 0.7571 - val_accuracy: 0.7515\n",
      "Epoch 23/25\n",
      "252/252 [==============================] - 44s 174ms/step - loss: 0.1657 - accuracy: 0.9340 - val_loss: 0.7979 - val_accuracy: 0.7490\n",
      "Epoch 24/25\n",
      "252/252 [==============================] - 44s 174ms/step - loss: 0.1613 - accuracy: 0.9386 - val_loss: 0.8517 - val_accuracy: 0.7495\n",
      "Epoch 25/25\n",
      "252/252 [==============================] - 44s 175ms/step - loss: 0.1472 - accuracy: 0.9426 - val_loss: 0.8559 - val_accuracy: 0.7500\n"
     ]
    },
    {
     "data": {
      "text/plain": [
       "<keras.src.callbacks.History at 0x2ae6a15eb80>"
      ]
     },
     "execution_count": 22,
     "metadata": {},
     "output_type": "execute_result"
    }
   ],
   "source": [
    "classifier.fit(x=training_data,validation_data=test_data,epochs=25)"
   ]
  },
  {
   "cell_type": "markdown",
   "id": "6083c106",
   "metadata": {},
   "source": [
    "## 💾 Saving the Model -/ Making a Single Prediction"
   ]
  },
  {
   "cell_type": "markdown",
   "id": "a904ea3b",
   "metadata": {},
   "source": [
    "Model Evaluation "
   ]
  },
  {
   "cell_type": "code",
   "execution_count": 23,
   "id": "9c4b0d5a",
   "metadata": {},
   "outputs": [],
   "source": [
    "import numpy as np\n",
    "from PIL import Image"
   ]
  },
  {
   "cell_type": "code",
   "execution_count": 26,
   "id": "eab9ae76",
   "metadata": {},
   "outputs": [
    {
     "name": "stdout",
     "output_type": "stream",
     "text": [
      "1/1 [==============================] - 0s 212ms/step\n",
      "Dog\n"
     ]
    }
   ],
   "source": [
    "testing=Image.open('dataset/single_prediction/cat_or_dog_1.jpg')\n",
    "test_image=testing.resize((64,64))\n",
    "test_image=np.array(test_image)\n",
    "test_image=np.expand_dims(test_image,axis=0)\n",
    "res=classifier.predict(test_image)\n",
    "if res[0][0]==1:\n",
    "    print(\"Dog\")\n",
    "else:\n",
    "    print(\"Cat\")"
   ]
  },
  {
   "cell_type": "code",
   "execution_count": null,
   "id": "7293c50c",
   "metadata": {},
   "outputs": [],
   "source": []
  }
 ],
 "metadata": {
  "kernelspec": {
   "display_name": "Python 3 (ipykernel)",
   "language": "python",
   "name": "python3"
  },
  "language_info": {
   "codemirror_mode": {
    "name": "ipython",
    "version": 3
   },
   "file_extension": ".py",
   "mimetype": "text/x-python",
   "name": "python",
   "nbconvert_exporter": "python",
   "pygments_lexer": "ipython3",
   "version": "3.9.13"
  }
 },
 "nbformat": 4,
 "nbformat_minor": 5
}
